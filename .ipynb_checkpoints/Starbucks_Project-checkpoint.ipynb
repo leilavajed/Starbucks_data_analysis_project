{
 "cells": [
  {
   "cell_type": "markdown",
   "metadata": {},
   "source": [
    "# Starbucks Capstone Challenge\n",
    "\n",
    "### Introduction\n",
    "\n",
    "This data set contains simulated data that mimics customer behavior on the Starbucks rewards mobile app. Once every few days, Starbucks sends out an offer to users of the mobile app. An offer can be merely an advertisement for a drink or an actual offer such as a discount or BOGO (buy one get one free). Some users might not receive any offer during certain weeks. \n",
    "\n",
    "Not all users receive the same offer, and that is the challenge to solve with this data set.\n",
    "\n",
    "Your task is to combine transaction, demographic and offer data to determine which demographic groups respond best to which offer type. This data set is a simplified version of the real Starbucks app because the underlying simulator only has one product whereas Starbucks actually sells dozens of products.\n",
    "\n",
    "Every offer has a validity period before the offer expires. As an example, a BOGO offer might be valid for only 5 days. You'll see in the data set that informational offers have a validity period even though these ads are merely providing information about a product; for example, if an informational offer has 7 days of validity, you can assume the customer is feeling the influence of the offer for 7 days after receiving the advertisement.\n",
    "\n",
    "You'll be given transactional data showing user purchases made on the app including the timestamp of purchase and the amount of money spent on a purchase. This transactional data also has a record for each offer that a user receives as well as a record for when a user actually views the offer. There are also records for when a user completes an offer. \n",
    "\n",
    "Keep in mind as well that someone using the app might make a purchase through the app without having received an offer or seen an offer.\n",
    "\n",
    "### Example\n",
    "\n",
    "To give an example, a user could receive a discount offer buy 10 dollars get 2 off on Monday. The offer is valid for 10 days from receipt. If the customer accumulates at least 10 dollars in purchases during the validity period, the customer completes the offer.\n",
    "\n",
    "However, there are a few things to watch out for in this data set. Customers do not opt into the offers that they receive; in other words, a user can receive an offer, never actually view the offer, and still complete the offer. For example, a user might receive the \"buy 10 dollars get 2 dollars off offer\", but the user never opens the offer during the 10 day validity period. The customer spends 15 dollars during those ten days. There will be an offer completion record in the data set; however, the customer was not influenced by the offer because the customer never viewed the offer.\n",
    "\n",
    "### Cleaning\n",
    "\n",
    "This makes data cleaning especially important and tricky.\n",
    "\n",
    "You'll also want to take into account that some demographic groups will make purchases even if they don't receive an offer. From a business perspective, if a customer is going to make a 10 dollar purchase without an offer anyway, you wouldn't want to send a buy 10 dollars get 2 dollars off offer. You'll want to try to assess what a certain demographic group will buy when not receiving any offers.\n",
    "\n",
    "### Final Advice\n",
    "\n",
    "Because this is a capstone project, you are free to analyze the data any way you see fit. For example, you could build a machine learning model that predicts how much someone will spend based on demographics and offer type. Or you could build a model that predicts whether or not someone will respond to an offer. Or, you don't need to build a machine learning model at all. You could develop a set of heuristics that determine what offer you should send to each customer (i.e., 75 percent of women customers who were 35 years old responded to offer A vs 40 percent from the same demographic to offer B, so send offer A)."
   ]
  },
  {
   "cell_type": "markdown",
   "metadata": {},
   "source": [
    "# Data Sets\n",
    "\n",
    "The data is contained in three files:\n",
    "\n",
    "* portfolio.json - containing offer ids and meta data about each offer (duration, type, etc.)\n",
    "* profile.json - demographic data for each customer\n",
    "* transcript.json - records for transactions, offers received, offers viewed, and offers completed\n",
    "\n",
    "Here is the schema and explanation of each variable in the files:\n",
    "\n",
    "**portfolio.json**\n",
    "* id (string) - offer id\n",
    "* offer_type (string) - type of offer ie BOGO, discount, informational\n",
    "* difficulty (int) - minimum required spend to complete an offer\n",
    "* reward (int) - reward given for completing an offer\n",
    "* duration (int) - time for offer to be open, in days\n",
    "* channels (list of strings)\n",
    "\n",
    "**profile.json**\n",
    "* age (int) - age of the customer \n",
    "* became_member_on (int) - date when customer created an app account\n",
    "* gender (str) - gender of the customer (note some entries contain 'O' for other rather than M or F)\n",
    "* id (str) - customer id\n",
    "* income (float) - customer's income\n",
    "\n",
    "**transcript.json**\n",
    "* event (str) - record description (ie transaction, offer received, offer viewed, etc.)\n",
    "* person (str) - customer id\n",
    "* time (int) - time in hours since start of test. The data begins at time t=0\n",
    "* value - (dict of strings) - either an offer id or transaction amount depending on the record"
   ]
  },
  {
   "cell_type": "code",
   "execution_count": 2,
   "metadata": {},
   "outputs": [],
   "source": [
    "# Import required libraries\n",
    "import pandas as pd\n",
    "import numpy as np\n",
    "import math\n",
    "import json\n",
    "import matplotlib.pyplot as plt\n",
    "from datetime import datetime\n",
    "from sklearn.preprocessing import StandardScaler\n",
    "from sklearn.model_selection import train_test_split\n",
    "from sklearn.ensemble import RandomForestClassifier,GradientBoostingClassifier\n",
    "from sklearn.neighbors import KNeighborsClassifier\n",
    "from sklearn.metrics import precision_score, recall_score ,f1_score,classification_report, accuracy_score\n",
    "from sklearn.tree import DecisionTreeClassifier \n",
    "from sklearn.model_selection import cross_val_score\n",
    "import seaborn as sns\n",
    "%matplotlib inline\n",
    "\n"
   ]
  },
  {
   "cell_type": "code",
   "execution_count": 3,
   "metadata": {},
   "outputs": [],
   "source": [
    "# read in the json files\n",
    "portfolio = pd.read_json('data/portfolio.json', orient='records', lines=True)\n",
    "profile = pd.read_json('data/profile.json', orient='records', lines=True)\n",
    "transcript = pd.read_json('data/transcript.json', orient='records', lines=True)"
   ]
  },
  {
   "cell_type": "markdown",
   "metadata": {},
   "source": [
    "## Explore the data"
   ]
  },
  {
   "cell_type": "code",
   "execution_count": 3,
   "metadata": {},
   "outputs": [
    {
     "data": {
      "text/plain": [
       "<AxesSubplot:>"
      ]
     },
     "execution_count": 3,
     "metadata": {},
     "output_type": "execute_result"
    },
    {
     "data": {
      "image/png": "[encoded data removed]",
      "text/plain": [
       "<Figure size 432x288 with 1 Axes>"
      ]
     },
     "metadata": {
      "needs_background": "light"
     },
     "output_type": "display_data"
    }
   ],
   "source": [
    "#portfolio dataset offer_type\n",
    "portfolio.offer_type.hist()"
   ]
  },
  {
   "cell_type": "code",
   "execution_count": 4,
   "metadata": {},
   "outputs": [
    {
     "data": {
      "text/plain": [
       "<AxesSubplot:>"
      ]
     },
     "execution_count": 4,
     "metadata": {},
     "output_type": "execute_result"
    },
    {
     "data": {
      "image/png": "[encoded data removed]",
      "text/plain": [
       "<Figure size 432x288 with 1 Axes>"
      ]
     },
     "metadata": {
      "needs_background": "light"
     },
     "output_type": "display_data"
    }
   ],
   "source": [
    "#portfolio dataset duration\n",
    "portfolio.duration.hist()"
   ]
  },
  {
   "cell_type": "code",
   "execution_count": 5,
   "metadata": {},
   "outputs": [
    {
     "data": {
      "text/plain": [
       "<AxesSubplot:>"
      ]
     },
     "execution_count": 5,
     "metadata": {},
     "output_type": "execute_result"
    },
    {
     "data": {
      "image/png": "[encoded data removed]",
      "text/plain": [
       "<Figure size 432x288 with 1 Axes>"
      ]
     },
     "metadata": {
      "needs_background": "light"
     },
     "output_type": "display_data"
    }
   ],
   "source": [
    "#profile dataset age\n",
    "profile.age.hist()"
   ]
  },
  {
   "cell_type": "code",
   "execution_count": 6,
   "metadata": {},
   "outputs": [
    {
     "data": {
      "text/plain": [
       "<AxesSubplot:>"
      ]
     },
     "execution_count": 6,
     "metadata": {},
     "output_type": "execute_result"
    },
    {
     "data": {
      "image/png": "[encoded data removed]",
      "text/plain": [
       "<Figure size 432x288 with 1 Axes>"
      ]
     },
     "metadata": {
      "needs_background": "light"
     },
     "output_type": "display_data"
    }
   ],
   "source": [
    "#profile dataset gender\n",
    "profile.gender.hist()"
   ]
  },
  {
   "cell_type": "code",
   "execution_count": 7,
   "metadata": {},
   "outputs": [
    {
     "data": {
      "text/plain": [
       "<AxesSubplot:>"
      ]
     },
     "execution_count": 7,
     "metadata": {},
     "output_type": "execute_result"
    },
    {
     "data": {
      "image/png": "[encoded data removed]",
      "text/plain": [
       "<Figure size 432x288 with 1 Axes>"
      ]
     },
     "metadata": {
      "needs_background": "light"
     },
     "output_type": "display_data"
    }
   ],
   "source": [
    "#transcript dataset event\n",
    "transcript.event.hist()"
   ]
  },
  {
   "cell_type": "markdown",
   "metadata": {},
   "source": [
    "#  Data Cleaning"
   ]
  },
  {
   "cell_type": "markdown",
   "metadata": {},
   "source": [
    "## Cleaning Portfolio"
   ]
  },
  {
   "cell_type": "code",
   "execution_count": 8,
   "metadata": {},
   "outputs": [],
   "source": [
    "new_cols_name = {'difficulty':'offer_difficulty' , 'id':'offer_id', 'duration':'offer_duration', 'reward': 'offer_reward'}\n",
    "cleaned_portfolio = portfolio.rename(columns =  new_cols_name )"
   ]
  },
  {
   "cell_type": "code",
   "execution_count": 9,
   "metadata": {
    "scrolled": true
   },
   "outputs": [
    {
     "data": {
      "text/html": [
       "<div>\n",
       "<style scoped>\n",
       "    .dataframe tbody tr th:only-of-type {\n",
       "        vertical-align: middle;\n",
       "    }\n",
       "\n",
       "    .dataframe tbody tr th {\n",
       "        vertical-align: top;\n",
       "    }\n",
       "\n",
       "    .dataframe thead th {\n",
       "        text-align: right;\n",
       "    }\n",
       "</style>\n",
       "<table border=\"1\" class=\"dataframe\">\n",
       "  <thead>\n",
       "    <tr style=\"text-align: right;\">\n",
       "      <th></th>\n",
       "      <th>offer_reward</th>\n",
       "      <th>channels</th>\n",
       "      <th>offer_difficulty</th>\n",
       "      <th>offer_duration</th>\n",
       "      <th>offer_type</th>\n",
       "      <th>offer_id</th>\n",
       "    </tr>\n",
       "  </thead>\n",
       "  <tbody>\n",
       "    <tr>\n",
       "      <th>0</th>\n",
       "      <td>10</td>\n",
       "      <td>[email, mobile, social]</td>\n",
       "      <td>10</td>\n",
       "      <td>7</td>\n",
       "      <td>bogo</td>\n",
       "      <td>ae264e3637204a6fb9bb56bc8210ddfd</td>\n",
       "    </tr>\n",
       "    <tr>\n",
       "      <th>1</th>\n",
       "      <td>10</td>\n",
       "      <td>[web, email, mobile, social]</td>\n",
       "      <td>10</td>\n",
       "      <td>5</td>\n",
       "      <td>bogo</td>\n",
       "      <td>4d5c57ea9a6940dd891ad53e9dbe8da0</td>\n",
       "    </tr>\n",
       "    <tr>\n",
       "      <th>2</th>\n",
       "      <td>0</td>\n",
       "      <td>[web, email, mobile]</td>\n",
       "      <td>0</td>\n",
       "      <td>4</td>\n",
       "      <td>informational</td>\n",
       "      <td>3f207df678b143eea3cee63160fa8bed</td>\n",
       "    </tr>\n",
       "    <tr>\n",
       "      <th>3</th>\n",
       "      <td>5</td>\n",
       "      <td>[web, email, mobile]</td>\n",
       "      <td>5</td>\n",
       "      <td>7</td>\n",
       "      <td>bogo</td>\n",
       "      <td>9b98b8c7a33c4b65b9aebfe6a799e6d9</td>\n",
       "    </tr>\n",
       "    <tr>\n",
       "      <th>4</th>\n",
       "      <td>5</td>\n",
       "      <td>[web, email]</td>\n",
       "      <td>20</td>\n",
       "      <td>10</td>\n",
       "      <td>discount</td>\n",
       "      <td>0b1e1539f2cc45b7b9fa7c272da2e1d7</td>\n",
       "    </tr>\n",
       "    <tr>\n",
       "      <th>5</th>\n",
       "      <td>3</td>\n",
       "      <td>[web, email, mobile, social]</td>\n",
       "      <td>7</td>\n",
       "      <td>7</td>\n",
       "      <td>discount</td>\n",
       "      <td>2298d6c36e964ae4a3e7e9706d1fb8c2</td>\n",
       "    </tr>\n",
       "    <tr>\n",
       "      <th>6</th>\n",
       "      <td>2</td>\n",
       "      <td>[web, email, mobile, social]</td>\n",
       "      <td>10</td>\n",
       "      <td>10</td>\n",
       "      <td>discount</td>\n",
       "      <td>fafdcd668e3743c1bb461111dcafc2a4</td>\n",
       "    </tr>\n",
       "    <tr>\n",
       "      <th>7</th>\n",
       "      <td>0</td>\n",
       "      <td>[email, mobile, social]</td>\n",
       "      <td>0</td>\n",
       "      <td>3</td>\n",
       "      <td>informational</td>\n",
       "      <td>5a8bc65990b245e5a138643cd4eb9837</td>\n",
       "    </tr>\n",
       "    <tr>\n",
       "      <th>8</th>\n",
       "      <td>5</td>\n",
       "      <td>[web, email, mobile, social]</td>\n",
       "      <td>5</td>\n",
       "      <td>5</td>\n",
       "      <td>bogo</td>\n",
       "      <td>f19421c1d4aa40978ebb69ca19b0e20d</td>\n",
       "    </tr>\n",
       "    <tr>\n",
       "      <th>9</th>\n",
       "      <td>2</td>\n",
       "      <td>[web, email, mobile]</td>\n",
       "      <td>10</td>\n",
       "      <td>7</td>\n",
       "      <td>discount</td>\n",
       "      <td>2906b810c7d4411798c6938adc9daaa5</td>\n",
       "    </tr>\n",
       "  </tbody>\n",
       "</table>\n",
       "</div>"
      ],
      "text/plain": [
       "   offer_reward                      channels  offer_difficulty  \\\n",
       "0            10       [email, mobile, social]                10   \n",
       "1            10  [web, email, mobile, social]                10   \n",
       "2             0          [web, email, mobile]                 0   \n",
       "3             5          [web, email, mobile]                 5   \n",
       "4             5                  [web, email]                20   \n",
       "5             3  [web, email, mobile, social]                 7   \n",
       "6             2  [web, email, mobile, social]                10   \n",
       "7             0       [email, mobile, social]                 0   \n",
       "8             5  [web, email, mobile, social]                 5   \n",
       "9             2          [web, email, mobile]                10   \n",
       "\n",
       "   offer_duration     offer_type                          offer_id  \n",
       "0               7           bogo  ae264e3637204a6fb9bb56bc8210ddfd  \n",
       "1               5           bogo  4d5c57ea9a6940dd891ad53e9dbe8da0  \n",
       "2               4  informational  3f207df678b143eea3cee63160fa8bed  \n",
       "3               7           bogo  9b98b8c7a33c4b65b9aebfe6a799e6d9  \n",
       "4              10       discount  0b1e1539f2cc45b7b9fa7c272da2e1d7  \n",
       "5               7       discount  2298d6c36e964ae4a3e7e9706d1fb8c2  \n",
       "6              10       discount  fafdcd668e3743c1bb461111dcafc2a4  \n",
       "7               3  informational  5a8bc65990b245e5a138643cd4eb9837  \n",
       "8               5           bogo  f19421c1d4aa40978ebb69ca19b0e20d  \n",
       "9               7       discount  2906b810c7d4411798c6938adc9daaa5  "
      ]
     },
     "execution_count": 9,
     "metadata": {},
     "output_type": "execute_result"
    }
   ],
   "source": [
    "cleaned_portfolio.head(10)"
   ]
  },
  {
   "cell_type": "markdown",
   "metadata": {},
   "source": [
    "## Cleaning Profile"
   ]
  },
  {
   "cell_type": "code",
   "execution_count": 10,
   "metadata": {},
   "outputs": [],
   "source": [
    "cols_profile = {'id':'customer_id' , 'income':'customer_income'}\n",
    "cleaned_profile = profile.rename(columns =  cols_profile )"
   ]
  },
  {
   "cell_type": "code",
   "execution_count": 11,
   "metadata": {},
   "outputs": [],
   "source": [
    "cleaned_profile.replace(118, np.nan , inplace=True)\n",
    "cleaned_profile['age'] = cleaned_profile['age'].fillna(cleaned_profile['age'].mean())\n",
    "cleaned_profile['customer_income'] = cleaned_profile['customer_income'].fillna(cleaned_profile['customer_income'].mean())\n",
    "mode = cleaned_profile['gender'].mode()[0]\n",
    "cleaned_profile['gender'] = cleaned_profile['gender'].fillna(mode)\n",
    "cleaned_profile = cleaned_profile[cleaned_profile['age'] <= 80]\n",
    "cleaned_profile['age'] = cleaned_profile['age'].astype(int)\n",
    "\n",
    "cleaned_profile.loc[(cleaned_profile.age < 20) , 'Age_group'] = 'Under 20'\n",
    "cleaned_profile.loc[(cleaned_profile.age >= 20) & (cleaned_profile.age <= 45) , 'Age_group'] = '20-45'\n",
    "cleaned_profile.loc[(cleaned_profile.age >= 46) & (cleaned_profile.age <= 60) , 'Age_group'] = '46-60'\n",
    "cleaned_profile.loc[(cleaned_profile.age >= 61) , 'Age_group'] = '61-80'\n",
    "cleaned_profile.drop('age',axis=1,inplace=True)\n"
   ]
  },
  {
   "cell_type": "code",
   "execution_count": 12,
   "metadata": {},
   "outputs": [
    {
     "data": {
      "text/html": [
       "<div>\n",
       "<style scoped>\n",
       "    .dataframe tbody tr th:only-of-type {\n",
       "        vertical-align: middle;\n",
       "    }\n",
       "\n",
       "    .dataframe tbody tr th {\n",
       "        vertical-align: top;\n",
       "    }\n",
       "\n",
       "    .dataframe thead th {\n",
       "        text-align: right;\n",
       "    }\n",
       "</style>\n",
       "<table border=\"1\" class=\"dataframe\">\n",
       "  <thead>\n",
       "    <tr style=\"text-align: right;\">\n",
       "      <th></th>\n",
       "      <th>gender</th>\n",
       "      <th>customer_id</th>\n",
       "      <th>became_member_on</th>\n",
       "      <th>customer_income</th>\n",
       "      <th>Age_group</th>\n",
       "    </tr>\n",
       "  </thead>\n",
       "  <tbody>\n",
       "    <tr>\n",
       "      <th>0</th>\n",
       "      <td>M</td>\n",
       "      <td>68be06ca386d4c31939f3a4f0e3dd783</td>\n",
       "      <td>20170212</td>\n",
       "      <td>65404.991568</td>\n",
       "      <td>46-60</td>\n",
       "    </tr>\n",
       "    <tr>\n",
       "      <th>1</th>\n",
       "      <td>F</td>\n",
       "      <td>0610b486422d4921ae7d2bf64640c50b</td>\n",
       "      <td>20170715</td>\n",
       "      <td>112000.000000</td>\n",
       "      <td>46-60</td>\n",
       "    </tr>\n",
       "    <tr>\n",
       "      <th>2</th>\n",
       "      <td>M</td>\n",
       "      <td>38fe809add3b4fcf9315a9694bb96ff5</td>\n",
       "      <td>20180712</td>\n",
       "      <td>65404.991568</td>\n",
       "      <td>46-60</td>\n",
       "    </tr>\n",
       "    <tr>\n",
       "      <th>3</th>\n",
       "      <td>F</td>\n",
       "      <td>78afa995795e4d85b5d9ceeca43f5fef</td>\n",
       "      <td>20170509</td>\n",
       "      <td>100000.000000</td>\n",
       "      <td>61-80</td>\n",
       "    </tr>\n",
       "    <tr>\n",
       "      <th>4</th>\n",
       "      <td>M</td>\n",
       "      <td>a03223e636434f42ac4c3df47e8bac43</td>\n",
       "      <td>20170804</td>\n",
       "      <td>65404.991568</td>\n",
       "      <td>46-60</td>\n",
       "    </tr>\n",
       "    <tr>\n",
       "      <th>5</th>\n",
       "      <td>M</td>\n",
       "      <td>e2127556f4f64592b11af22de27a7932</td>\n",
       "      <td>20180426</td>\n",
       "      <td>70000.000000</td>\n",
       "      <td>61-80</td>\n",
       "    </tr>\n",
       "    <tr>\n",
       "      <th>6</th>\n",
       "      <td>M</td>\n",
       "      <td>8ec6ce2a7e7949b1bf142def7d0e0586</td>\n",
       "      <td>20170925</td>\n",
       "      <td>65404.991568</td>\n",
       "      <td>46-60</td>\n",
       "    </tr>\n",
       "    <tr>\n",
       "      <th>7</th>\n",
       "      <td>M</td>\n",
       "      <td>68617ca6246f4fbc85e91a2a49552598</td>\n",
       "      <td>20171002</td>\n",
       "      <td>65404.991568</td>\n",
       "      <td>46-60</td>\n",
       "    </tr>\n",
       "    <tr>\n",
       "      <th>8</th>\n",
       "      <td>M</td>\n",
       "      <td>389bc3fa690240e798340f5a15918d5c</td>\n",
       "      <td>20180209</td>\n",
       "      <td>53000.000000</td>\n",
       "      <td>61-80</td>\n",
       "    </tr>\n",
       "    <tr>\n",
       "      <th>9</th>\n",
       "      <td>M</td>\n",
       "      <td>8974fc5686fe429db53ddde067b88302</td>\n",
       "      <td>20161122</td>\n",
       "      <td>65404.991568</td>\n",
       "      <td>46-60</td>\n",
       "    </tr>\n",
       "  </tbody>\n",
       "</table>\n",
       "</div>"
      ],
      "text/plain": [
       "  gender                       customer_id  became_member_on  customer_income  \\\n",
       "0      M  68be06ca386d4c31939f3a4f0e3dd783          20170212     65404.991568   \n",
       "1      F  0610b486422d4921ae7d2bf64640c50b          20170715    112000.000000   \n",
       "2      M  38fe809add3b4fcf9315a9694bb96ff5          20180712     65404.991568   \n",
       "3      F  78afa995795e4d85b5d9ceeca43f5fef          20170509    100000.000000   \n",
       "4      M  a03223e636434f42ac4c3df47e8bac43          20170804     65404.991568   \n",
       "5      M  e2127556f4f64592b11af22de27a7932          20180426     70000.000000   \n",
       "6      M  8ec6ce2a7e7949b1bf142def7d0e0586          20170925     65404.991568   \n",
       "7      M  68617ca6246f4fbc85e91a2a49552598          20171002     65404.991568   \n",
       "8      M  389bc3fa690240e798340f5a15918d5c          20180209     53000.000000   \n",
       "9      M  8974fc5686fe429db53ddde067b88302          20161122     65404.991568   \n",
       "\n",
       "  Age_group  \n",
       "0     46-60  \n",
       "1     46-60  \n",
       "2     46-60  \n",
       "3     61-80  \n",
       "4     46-60  \n",
       "5     61-80  \n",
       "6     46-60  \n",
       "7     46-60  \n",
       "8     61-80  \n",
       "9     46-60  "
      ]
     },
     "execution_count": 12,
     "metadata": {},
     "output_type": "execute_result"
    }
   ],
   "source": [
    "cleaned_profile.head(10)"
   ]
  },
  {
   "cell_type": "markdown",
   "metadata": {},
   "source": [
    "##  Cleaning Transcript"
   ]
  },
  {
   "cell_type": "code",
   "execution_count": 13,
   "metadata": {},
   "outputs": [],
   "source": [
    "transcript_cols = {'person':'customer_id'}\n",
    "cleaned_transcript = transcript.rename(columns =  transcript_cols)"
   ]
  },
  {
   "cell_type": "code",
   "execution_count": 14,
   "metadata": {},
   "outputs": [],
   "source": [
    "cleaned_transcript['offer_id'] = cleaned_transcript['value'].apply(lambda x: x.get('offer_id'))\n",
    "cleaned_transcript['offer id'] = cleaned_transcript['value'].apply(lambda x: x.get('offer id'))\n",
    "cleaned_transcript['money_gained'] = cleaned_transcript['value'].apply(lambda x: x.get('reward'))\n",
    "cleaned_transcript['money_spent'] = cleaned_transcript['value'].apply(lambda x: x.get('amount'))\n",
    "\n",
    "cleaned_transcript['offer_id'] = cleaned_transcript.apply(lambda x : x['offer id'] if x['offer_id'] == None else x['offer_id'], axis=1)\n",
    "cleaned_transcript.drop(['offer id' , 'value'] , axis=1, inplace=True)\n",
    "cleaned_transcript.fillna(0 , inplace=True)\n",
    "    \n"
   ]
  },
  {
   "cell_type": "code",
   "execution_count": 15,
   "metadata": {},
   "outputs": [
    {
     "data": {
      "text/html": [
       "<div>\n",
       "<style scoped>\n",
       "    .dataframe tbody tr th:only-of-type {\n",
       "        vertical-align: middle;\n",
       "    }\n",
       "\n",
       "    .dataframe tbody tr th {\n",
       "        vertical-align: top;\n",
       "    }\n",
       "\n",
       "    .dataframe thead th {\n",
       "        text-align: right;\n",
       "    }\n",
       "</style>\n",
       "<table border=\"1\" class=\"dataframe\">\n",
       "  <thead>\n",
       "    <tr style=\"text-align: right;\">\n",
       "      <th></th>\n",
       "      <th>customer_id</th>\n",
       "      <th>event</th>\n",
       "      <th>time</th>\n",
       "      <th>offer_id</th>\n",
       "      <th>money_gained</th>\n",
       "      <th>money_spent</th>\n",
       "    </tr>\n",
       "  </thead>\n",
       "  <tbody>\n",
       "    <tr>\n",
       "      <th>0</th>\n",
       "      <td>78afa995795e4d85b5d9ceeca43f5fef</td>\n",
       "      <td>offer received</td>\n",
       "      <td>0</td>\n",
       "      <td>9b98b8c7a33c4b65b9aebfe6a799e6d9</td>\n",
       "      <td>0.0</td>\n",
       "      <td>0.0</td>\n",
       "    </tr>\n",
       "    <tr>\n",
       "      <th>1</th>\n",
       "      <td>a03223e636434f42ac4c3df47e8bac43</td>\n",
       "      <td>offer received</td>\n",
       "      <td>0</td>\n",
       "      <td>0b1e1539f2cc45b7b9fa7c272da2e1d7</td>\n",
       "      <td>0.0</td>\n",
       "      <td>0.0</td>\n",
       "    </tr>\n",
       "    <tr>\n",
       "      <th>2</th>\n",
       "      <td>e2127556f4f64592b11af22de27a7932</td>\n",
       "      <td>offer received</td>\n",
       "      <td>0</td>\n",
       "      <td>2906b810c7d4411798c6938adc9daaa5</td>\n",
       "      <td>0.0</td>\n",
       "      <td>0.0</td>\n",
       "    </tr>\n",
       "    <tr>\n",
       "      <th>3</th>\n",
       "      <td>8ec6ce2a7e7949b1bf142def7d0e0586</td>\n",
       "      <td>offer received</td>\n",
       "      <td>0</td>\n",
       "      <td>fafdcd668e3743c1bb461111dcafc2a4</td>\n",
       "      <td>0.0</td>\n",
       "      <td>0.0</td>\n",
       "    </tr>\n",
       "    <tr>\n",
       "      <th>4</th>\n",
       "      <td>68617ca6246f4fbc85e91a2a49552598</td>\n",
       "      <td>offer received</td>\n",
       "      <td>0</td>\n",
       "      <td>4d5c57ea9a6940dd891ad53e9dbe8da0</td>\n",
       "      <td>0.0</td>\n",
       "      <td>0.0</td>\n",
       "    </tr>\n",
       "    <tr>\n",
       "      <th>5</th>\n",
       "      <td>389bc3fa690240e798340f5a15918d5c</td>\n",
       "      <td>offer received</td>\n",
       "      <td>0</td>\n",
       "      <td>f19421c1d4aa40978ebb69ca19b0e20d</td>\n",
       "      <td>0.0</td>\n",
       "      <td>0.0</td>\n",
       "    </tr>\n",
       "    <tr>\n",
       "      <th>6</th>\n",
       "      <td>c4863c7985cf408faee930f111475da3</td>\n",
       "      <td>offer received</td>\n",
       "      <td>0</td>\n",
       "      <td>2298d6c36e964ae4a3e7e9706d1fb8c2</td>\n",
       "      <td>0.0</td>\n",
       "      <td>0.0</td>\n",
       "    </tr>\n",
       "    <tr>\n",
       "      <th>7</th>\n",
       "      <td>2eeac8d8feae4a8cad5a6af0499a211d</td>\n",
       "      <td>offer received</td>\n",
       "      <td>0</td>\n",
       "      <td>3f207df678b143eea3cee63160fa8bed</td>\n",
       "      <td>0.0</td>\n",
       "      <td>0.0</td>\n",
       "    </tr>\n",
       "    <tr>\n",
       "      <th>8</th>\n",
       "      <td>aa4862eba776480b8bb9c68455b8c2e1</td>\n",
       "      <td>offer received</td>\n",
       "      <td>0</td>\n",
       "      <td>0b1e1539f2cc45b7b9fa7c272da2e1d7</td>\n",
       "      <td>0.0</td>\n",
       "      <td>0.0</td>\n",
       "    </tr>\n",
       "    <tr>\n",
       "      <th>9</th>\n",
       "      <td>31dda685af34476cad5bc968bdb01c53</td>\n",
       "      <td>offer received</td>\n",
       "      <td>0</td>\n",
       "      <td>0b1e1539f2cc45b7b9fa7c272da2e1d7</td>\n",
       "      <td>0.0</td>\n",
       "      <td>0.0</td>\n",
       "    </tr>\n",
       "  </tbody>\n",
       "</table>\n",
       "</div>"
      ],
      "text/plain": [
       "                        customer_id           event  time  \\\n",
       "0  78afa995795e4d85b5d9ceeca43f5fef  offer received     0   \n",
       "1  a03223e636434f42ac4c3df47e8bac43  offer received     0   \n",
       "2  e2127556f4f64592b11af22de27a7932  offer received     0   \n",
       "3  8ec6ce2a7e7949b1bf142def7d0e0586  offer received     0   \n",
       "4  68617ca6246f4fbc85e91a2a49552598  offer received     0   \n",
       "5  389bc3fa690240e798340f5a15918d5c  offer received     0   \n",
       "6  c4863c7985cf408faee930f111475da3  offer received     0   \n",
       "7  2eeac8d8feae4a8cad5a6af0499a211d  offer received     0   \n",
       "8  aa4862eba776480b8bb9c68455b8c2e1  offer received     0   \n",
       "9  31dda685af34476cad5bc968bdb01c53  offer received     0   \n",
       "\n",
       "                           offer_id  money_gained  money_spent  \n",
       "0  9b98b8c7a33c4b65b9aebfe6a799e6d9           0.0          0.0  \n",
       "1  0b1e1539f2cc45b7b9fa7c272da2e1d7           0.0          0.0  \n",
       "2  2906b810c7d4411798c6938adc9daaa5           0.0          0.0  \n",
       "3  fafdcd668e3743c1bb461111dcafc2a4           0.0          0.0  \n",
       "4  4d5c57ea9a6940dd891ad53e9dbe8da0           0.0          0.0  \n",
       "5  f19421c1d4aa40978ebb69ca19b0e20d           0.0          0.0  \n",
       "6  2298d6c36e964ae4a3e7e9706d1fb8c2           0.0          0.0  \n",
       "7  3f207df678b143eea3cee63160fa8bed           0.0          0.0  \n",
       "8  0b1e1539f2cc45b7b9fa7c272da2e1d7           0.0          0.0  \n",
       "9  0b1e1539f2cc45b7b9fa7c272da2e1d7           0.0          0.0  "
      ]
     },
     "execution_count": 15,
     "metadata": {},
     "output_type": "execute_result"
    }
   ],
   "source": [
    "cleaned_transcript.head(10)"
   ]
  },
  {
   "cell_type": "markdown",
   "metadata": {},
   "source": [
    "# Exploratory Data Analysis"
   ]
  },
  {
   "cell_type": "markdown",
   "metadata": {},
   "source": [
    "## Merging data frames "
   ]
  },
  {
   "cell_type": "code",
   "execution_count": 16,
   "metadata": {},
   "outputs": [],
   "source": [
    "merged_df = pd.merge(cleaned_portfolio, cleaned_transcript, on='offer_id')\n",
    "merged_df = pd.merge(merged_df, cleaned_profile, on='customer_id')"
   ]
  },
  {
   "cell_type": "code",
   "execution_count": 17,
   "metadata": {},
   "outputs": [
    {
     "data": {
      "text/html": [
       "<div>\n",
       "<style scoped>\n",
       "    .dataframe tbody tr th:only-of-type {\n",
       "        vertical-align: middle;\n",
       "    }\n",
       "\n",
       "    .dataframe tbody tr th {\n",
       "        vertical-align: top;\n",
       "    }\n",
       "\n",
       "    .dataframe thead th {\n",
       "        text-align: right;\n",
       "    }\n",
       "</style>\n",
       "<table border=\"1\" class=\"dataframe\">\n",
       "  <thead>\n",
       "    <tr style=\"text-align: right;\">\n",
       "      <th></th>\n",
       "      <th>offer_reward</th>\n",
       "      <th>channels</th>\n",
       "      <th>offer_difficulty</th>\n",
       "      <th>offer_duration</th>\n",
       "      <th>offer_type</th>\n",
       "      <th>offer_id</th>\n",
       "      <th>customer_id</th>\n",
       "      <th>event</th>\n",
       "      <th>time</th>\n",
       "      <th>money_gained</th>\n",
       "      <th>money_spent</th>\n",
       "      <th>gender</th>\n",
       "      <th>became_member_on</th>\n",
       "      <th>customer_income</th>\n",
       "      <th>Age_group</th>\n",
       "    </tr>\n",
       "  </thead>\n",
       "  <tbody>\n",
       "    <tr>\n",
       "      <th>0</th>\n",
       "      <td>10</td>\n",
       "      <td>[email, mobile, social]</td>\n",
       "      <td>10</td>\n",
       "      <td>7</td>\n",
       "      <td>bogo</td>\n",
       "      <td>ae264e3637204a6fb9bb56bc8210ddfd</td>\n",
       "      <td>4b0da7e80e5945209a1fdddfe813dbe0</td>\n",
       "      <td>offer received</td>\n",
       "      <td>0</td>\n",
       "      <td>0.0</td>\n",
       "      <td>0.0</td>\n",
       "      <td>M</td>\n",
       "      <td>20170909</td>\n",
       "      <td>100000.0</td>\n",
       "      <td>61-80</td>\n",
       "    </tr>\n",
       "    <tr>\n",
       "      <th>1</th>\n",
       "      <td>10</td>\n",
       "      <td>[email, mobile, social]</td>\n",
       "      <td>10</td>\n",
       "      <td>7</td>\n",
       "      <td>bogo</td>\n",
       "      <td>ae264e3637204a6fb9bb56bc8210ddfd</td>\n",
       "      <td>4b0da7e80e5945209a1fdddfe813dbe0</td>\n",
       "      <td>offer viewed</td>\n",
       "      <td>102</td>\n",
       "      <td>0.0</td>\n",
       "      <td>0.0</td>\n",
       "      <td>M</td>\n",
       "      <td>20170909</td>\n",
       "      <td>100000.0</td>\n",
       "      <td>61-80</td>\n",
       "    </tr>\n",
       "    <tr>\n",
       "      <th>2</th>\n",
       "      <td>10</td>\n",
       "      <td>[email, mobile, social]</td>\n",
       "      <td>10</td>\n",
       "      <td>7</td>\n",
       "      <td>bogo</td>\n",
       "      <td>ae264e3637204a6fb9bb56bc8210ddfd</td>\n",
       "      <td>4b0da7e80e5945209a1fdddfe813dbe0</td>\n",
       "      <td>offer received</td>\n",
       "      <td>504</td>\n",
       "      <td>0.0</td>\n",
       "      <td>0.0</td>\n",
       "      <td>M</td>\n",
       "      <td>20170909</td>\n",
       "      <td>100000.0</td>\n",
       "      <td>61-80</td>\n",
       "    </tr>\n",
       "    <tr>\n",
       "      <th>3</th>\n",
       "      <td>10</td>\n",
       "      <td>[email, mobile, social]</td>\n",
       "      <td>10</td>\n",
       "      <td>7</td>\n",
       "      <td>bogo</td>\n",
       "      <td>ae264e3637204a6fb9bb56bc8210ddfd</td>\n",
       "      <td>4b0da7e80e5945209a1fdddfe813dbe0</td>\n",
       "      <td>offer viewed</td>\n",
       "      <td>510</td>\n",
       "      <td>0.0</td>\n",
       "      <td>0.0</td>\n",
       "      <td>M</td>\n",
       "      <td>20170909</td>\n",
       "      <td>100000.0</td>\n",
       "      <td>61-80</td>\n",
       "    </tr>\n",
       "    <tr>\n",
       "      <th>4</th>\n",
       "      <td>10</td>\n",
       "      <td>[email, mobile, social]</td>\n",
       "      <td>10</td>\n",
       "      <td>7</td>\n",
       "      <td>bogo</td>\n",
       "      <td>ae264e3637204a6fb9bb56bc8210ddfd</td>\n",
       "      <td>4b0da7e80e5945209a1fdddfe813dbe0</td>\n",
       "      <td>offer completed</td>\n",
       "      <td>510</td>\n",
       "      <td>10.0</td>\n",
       "      <td>0.0</td>\n",
       "      <td>M</td>\n",
       "      <td>20170909</td>\n",
       "      <td>100000.0</td>\n",
       "      <td>61-80</td>\n",
       "    </tr>\n",
       "    <tr>\n",
       "      <th>5</th>\n",
       "      <td>0</td>\n",
       "      <td>[web, email, mobile]</td>\n",
       "      <td>0</td>\n",
       "      <td>4</td>\n",
       "      <td>informational</td>\n",
       "      <td>3f207df678b143eea3cee63160fa8bed</td>\n",
       "      <td>4b0da7e80e5945209a1fdddfe813dbe0</td>\n",
       "      <td>offer received</td>\n",
       "      <td>408</td>\n",
       "      <td>0.0</td>\n",
       "      <td>0.0</td>\n",
       "      <td>M</td>\n",
       "      <td>20170909</td>\n",
       "      <td>100000.0</td>\n",
       "      <td>61-80</td>\n",
       "    </tr>\n",
       "    <tr>\n",
       "      <th>6</th>\n",
       "      <td>0</td>\n",
       "      <td>[web, email, mobile]</td>\n",
       "      <td>0</td>\n",
       "      <td>4</td>\n",
       "      <td>informational</td>\n",
       "      <td>3f207df678b143eea3cee63160fa8bed</td>\n",
       "      <td>4b0da7e80e5945209a1fdddfe813dbe0</td>\n",
       "      <td>offer viewed</td>\n",
       "      <td>468</td>\n",
       "      <td>0.0</td>\n",
       "      <td>0.0</td>\n",
       "      <td>M</td>\n",
       "      <td>20170909</td>\n",
       "      <td>100000.0</td>\n",
       "      <td>61-80</td>\n",
       "    </tr>\n",
       "    <tr>\n",
       "      <th>7</th>\n",
       "      <td>5</td>\n",
       "      <td>[web, email]</td>\n",
       "      <td>20</td>\n",
       "      <td>10</td>\n",
       "      <td>discount</td>\n",
       "      <td>0b1e1539f2cc45b7b9fa7c272da2e1d7</td>\n",
       "      <td>4b0da7e80e5945209a1fdddfe813dbe0</td>\n",
       "      <td>offer received</td>\n",
       "      <td>168</td>\n",
       "      <td>0.0</td>\n",
       "      <td>0.0</td>\n",
       "      <td>M</td>\n",
       "      <td>20170909</td>\n",
       "      <td>100000.0</td>\n",
       "      <td>61-80</td>\n",
       "    </tr>\n",
       "    <tr>\n",
       "      <th>8</th>\n",
       "      <td>5</td>\n",
       "      <td>[web, email]</td>\n",
       "      <td>20</td>\n",
       "      <td>10</td>\n",
       "      <td>discount</td>\n",
       "      <td>0b1e1539f2cc45b7b9fa7c272da2e1d7</td>\n",
       "      <td>4b0da7e80e5945209a1fdddfe813dbe0</td>\n",
       "      <td>offer viewed</td>\n",
       "      <td>174</td>\n",
       "      <td>0.0</td>\n",
       "      <td>0.0</td>\n",
       "      <td>M</td>\n",
       "      <td>20170909</td>\n",
       "      <td>100000.0</td>\n",
       "      <td>61-80</td>\n",
       "    </tr>\n",
       "    <tr>\n",
       "      <th>9</th>\n",
       "      <td>5</td>\n",
       "      <td>[web, email]</td>\n",
       "      <td>20</td>\n",
       "      <td>10</td>\n",
       "      <td>discount</td>\n",
       "      <td>0b1e1539f2cc45b7b9fa7c272da2e1d7</td>\n",
       "      <td>4b0da7e80e5945209a1fdddfe813dbe0</td>\n",
       "      <td>offer completed</td>\n",
       "      <td>180</td>\n",
       "      <td>5.0</td>\n",
       "      <td>0.0</td>\n",
       "      <td>M</td>\n",
       "      <td>20170909</td>\n",
       "      <td>100000.0</td>\n",
       "      <td>61-80</td>\n",
       "    </tr>\n",
       "  </tbody>\n",
       "</table>\n",
       "</div>"
      ],
      "text/plain": [
       "   offer_reward                 channels  offer_difficulty  offer_duration  \\\n",
       "0            10  [email, mobile, social]                10               7   \n",
       "1            10  [email, mobile, social]                10               7   \n",
       "2            10  [email, mobile, social]                10               7   \n",
       "3            10  [email, mobile, social]                10               7   \n",
       "4            10  [email, mobile, social]                10               7   \n",
       "5             0     [web, email, mobile]                 0               4   \n",
       "6             0     [web, email, mobile]                 0               4   \n",
       "7             5             [web, email]                20              10   \n",
       "8             5             [web, email]                20              10   \n",
       "9             5             [web, email]                20              10   \n",
       "\n",
       "      offer_type                          offer_id  \\\n",
       "0           bogo  ae264e3637204a6fb9bb56bc8210ddfd   \n",
       "1           bogo  ae264e3637204a6fb9bb56bc8210ddfd   \n",
       "2           bogo  ae264e3637204a6fb9bb56bc8210ddfd   \n",
       "3           bogo  ae264e3637204a6fb9bb56bc8210ddfd   \n",
       "4           bogo  ae264e3637204a6fb9bb56bc8210ddfd   \n",
       "5  informational  3f207df678b143eea3cee63160fa8bed   \n",
       "6  informational  3f207df678b143eea3cee63160fa8bed   \n",
       "7       discount  0b1e1539f2cc45b7b9fa7c272da2e1d7   \n",
       "8       discount  0b1e1539f2cc45b7b9fa7c272da2e1d7   \n",
       "9       discount  0b1e1539f2cc45b7b9fa7c272da2e1d7   \n",
       "\n",
       "                        customer_id            event  time  money_gained  \\\n",
       "0  4b0da7e80e5945209a1fdddfe813dbe0   offer received     0           0.0   \n",
       "1  4b0da7e80e5945209a1fdddfe813dbe0     offer viewed   102           0.0   \n",
       "2  4b0da7e80e5945209a1fdddfe813dbe0   offer received   504           0.0   \n",
       "3  4b0da7e80e5945209a1fdddfe813dbe0     offer viewed   510           0.0   \n",
       "4  4b0da7e80e5945209a1fdddfe813dbe0  offer completed   510          10.0   \n",
       "5  4b0da7e80e5945209a1fdddfe813dbe0   offer received   408           0.0   \n",
       "6  4b0da7e80e5945209a1fdddfe813dbe0     offer viewed   468           0.0   \n",
       "7  4b0da7e80e5945209a1fdddfe813dbe0   offer received   168           0.0   \n",
       "8  4b0da7e80e5945209a1fdddfe813dbe0     offer viewed   174           0.0   \n",
       "9  4b0da7e80e5945209a1fdddfe813dbe0  offer completed   180           5.0   \n",
       "\n",
       "   money_spent gender  became_member_on  customer_income Age_group  \n",
       "0          0.0      M          20170909         100000.0     61-80  \n",
       "1          0.0      M          20170909         100000.0     61-80  \n",
       "2          0.0      M          20170909         100000.0     61-80  \n",
       "3          0.0      M          20170909         100000.0     61-80  \n",
       "4          0.0      M          20170909         100000.0     61-80  \n",
       "5          0.0      M          20170909         100000.0     61-80  \n",
       "6          0.0      M          20170909         100000.0     61-80  \n",
       "7          0.0      M          20170909         100000.0     61-80  \n",
       "8          0.0      M          20170909         100000.0     61-80  \n",
       "9          0.0      M          20170909         100000.0     61-80  "
      ]
     },
     "execution_count": 17,
     "metadata": {},
     "output_type": "execute_result"
    }
   ],
   "source": [
    "merged_df.head(10)"
   ]
  },
  {
   "cell_type": "markdown",
   "metadata": {},
   "source": [
    "### now the data is combined and ready for Exploratory Data Analysis."
   ]
  },
  {
   "cell_type": "code",
   "execution_count": 18,
   "metadata": {},
   "outputs": [
    {
     "name": "stdout",
     "output_type": "stream",
     "text": [
      "Average income of customers using the app is 65924.49\n"
     ]
    }
   ],
   "source": [
    "print('Average income of customers using the app is {}'.format(round(merged_df['customer_income'].mean(),2)))"
   ]
  },
  {
   "cell_type": "code",
   "execution_count": 19,
   "metadata": {},
   "outputs": [
    {
     "name": "stdout",
     "output_type": "stream",
     "text": [
      "Most used offer is:\n"
     ]
    },
    {
     "data": {
      "text/plain": [
       "<AxesSubplot:title={'center':' Dist of offer types'}>"
      ]
     },
     "execution_count": 19,
     "metadata": {},
     "output_type": "execute_result"
    },
    {
     "data": {
      "image/png": "[encoded data removed]",
      "text/plain": [
       "<Figure size 432x288 with 1 Axes>"
      ]
     },
     "metadata": {
      "needs_background": "light"
     },
     "output_type": "display_data"
    }
   ],
   "source": [
    "print('Most used offer is:')\n",
    "merged_df['offer_type'].value_counts().plot.bar(title=' Dist of offer types')"
   ]
  },
  {
   "cell_type": "code",
   "execution_count": 20,
   "metadata": {},
   "outputs": [
    {
     "name": "stdout",
     "output_type": "stream",
     "text": [
      " Distribution of age is\n"
     ]
    },
    {
     "data": {
      "text/plain": [
       "<AxesSubplot:title={'center':' Dist of age'}>"
      ]
     },
     "execution_count": 20,
     "metadata": {},
     "output_type": "execute_result"
    },
    {
     "data": {
      "image/png": "[encoded data removed]",
      "text/plain": [
       "<Figure size 432x288 with 1 Axes>"
      ]
     },
     "metadata": {
      "needs_background": "light"
     },
     "output_type": "display_data"
    }
   ],
   "source": [
    "print(' Distribution of age is')\n",
    "merged_df['Age_group'].value_counts().plot.bar(title=' Dist of age')"
   ]
  },
  {
   "cell_type": "code",
   "execution_count": 21,
   "metadata": {
    "scrolled": false
   },
   "outputs": [
    {
     "name": "stdout",
     "output_type": "stream",
     "text": [
      " Distribution of offers\n"
     ]
    },
    {
     "data": {
      "text/plain": [
       "<AxesSubplot:title={'center':' Dist of offers'}>"
      ]
     },
     "execution_count": 21,
     "metadata": {},
     "output_type": "execute_result"
    },
    {
     "data": {
      "image/png": "[encoded data removed]",
      "text/plain": [
       "<Figure size 432x288 with 1 Axes>"
      ]
     },
     "metadata": {
      "needs_background": "light"
     },
     "output_type": "display_data"
    }
   ],
   "source": [
    "print(' Distribution of offers')\n",
    "merged_df['event'].value_counts().plot.bar(title=' Dist of offers')"
   ]
  },
  {
   "cell_type": "code",
   "execution_count": 22,
   "metadata": {},
   "outputs": [],
   "source": [
    "plot_gender = merged_df[merged_df['gender'] != 'O']"
   ]
  },
  {
   "cell_type": "code",
   "execution_count": 23,
   "metadata": {},
   "outputs": [
    {
     "name": "stdout",
     "output_type": "stream",
     "text": [
      "Distribution of males and females\n"
     ]
    },
    {
     "data": {
      "text/plain": [
       "<AxesSubplot:title={'center':'Dist of males and females'}>"
      ]
     },
     "execution_count": 23,
     "metadata": {},
     "output_type": "execute_result"
    },
    {
     "data": {
      "image/png": "[encoded data removed]",
      "text/plain": [
       "<Figure size 432x288 with 1 Axes>"
      ]
     },
     "metadata": {
      "needs_background": "light"
     },
     "output_type": "display_data"
    }
   ],
   "source": [
    "print('Distribution of males and females')\n",
    "plot_gender.gender.value_counts().plot.barh(title = 'Dist of males and females')"
   ]
  },
  {
   "cell_type": "code",
   "execution_count": 24,
   "metadata": {},
   "outputs": [
    {
     "name": "stdout",
     "output_type": "stream",
     "text": [
      "Age group of males and females is:\n"
     ]
    },
    {
     "data": {
      "text/plain": [
       "<matplotlib.legend.Legend at 0x7fdf4770d2e8>"
      ]
     },
     "execution_count": 24,
     "metadata": {},
     "output_type": "execute_result"
    },
    {
     "data": {
      "image/png": "[encoded data removed]",
      "text/plain": [
       "<Figure size 1080x288 with 1 Axes>"
      ]
     },
     "metadata": {
      "needs_background": "light"
     },
     "output_type": "display_data"
    }
   ],
   "source": [
    "print('Age group of males and females is:')\n",
    "plt.figure(figsize=(15, 4))\n",
    "sns.countplot(x= \"Age_group\", hue= \"gender\", data=plot_gender)\n",
    "sns.set(style=\"darkgrid\")\n",
    "plt.ylabel('Count')\n",
    "plt.xlabel('Age Group')\n",
    "plt.legend(title='Gender')"
   ]
  },
  {
   "cell_type": "code",
   "execution_count": 25,
   "metadata": {},
   "outputs": [
    {
     "name": "stdout",
     "output_type": "stream",
     "text": [
      "Gender distribution in each offer type is:\n"
     ]
    },
    {
     "data": {
      "text/plain": [
       "<matplotlib.legend.Legend at 0x7fdf476c4518>"
      ]
     },
     "execution_count": 25,
     "metadata": {},
     "output_type": "execute_result"
    },
    {
     "data": {
      "image/png": "[encoded data removed]",
      "text/plain": [
       "<Figure size 1080x288 with 1 Axes>"
      ]
     },
     "metadata": {},
     "output_type": "display_data"
    }
   ],
   "source": [
    "print('Gender distribution in each offer type is:')\n",
    "plt.figure(figsize=(15, 4))\n",
    "sns.countplot(x= \"offer_type\", hue= \"gender\", data=plot_gender)\n",
    "sns.set(style=\"darkgrid\")\n",
    "plt.ylabel('Count')\n",
    "plt.xlabel('Offer Type')\n",
    "plt.legend(title='Gender')"
   ]
  },
  {
   "cell_type": "code",
   "execution_count": 26,
   "metadata": {},
   "outputs": [
    {
     "name": "stdout",
     "output_type": "stream",
     "text": [
      "Gender distribution is:\n"
     ]
    },
    {
     "data": {
      "text/plain": [
       "<matplotlib.legend.Legend at 0x7fdf47671c88>"
      ]
     },
     "execution_count": 26,
     "metadata": {},
     "output_type": "execute_result"
    },
    {
     "data": {
      "image/png": "[encoded data removed]",
      "text/plain": [
       "<Figure size 1080x288 with 1 Axes>"
      ]
     },
     "metadata": {},
     "output_type": "display_data"
    }
   ],
   "source": [
    "print('Gender distribution is:')\n",
    "plt.figure(figsize=(15, 4))\n",
    "sns.countplot(x= \"event\", hue= \"gender\", data=plot_gender)\n",
    "sns.set(style=\"darkgrid\")\n",
    "plt.ylabel('Count')\n",
    "plt.xlabel('Event')\n",
    "plt.legend(title='Gender')"
   ]
  },
  {
   "cell_type": "code",
   "execution_count": 27,
   "metadata": {},
   "outputs": [
    {
     "name": "stdout",
     "output_type": "stream",
     "text": [
      "Distribution of offer types in events\n"
     ]
    },
    {
     "data": {
      "text/plain": [
       "<matplotlib.legend.Legend at 0x7fdf47711c18>"
      ]
     },
     "execution_count": 27,
     "metadata": {},
     "output_type": "execute_result"
    },
    {
     "data": {
      "image/png": "[encoded data removed]",
      "text/plain": [
       "<Figure size 1080x288 with 1 Axes>"
      ]
     },
     "metadata": {},
     "output_type": "display_data"
    }
   ],
   "source": [
    "print('Distribution of offer types in events')\n",
    "plt.figure(figsize=(15, 4))\n",
    "sns.countplot(x= \"event\", hue= \"offer_type\", data=plot_gender)\n",
    "sns.set(style=\"darkgrid\")\n",
    "plt.ylabel('Count')\n",
    "plt.xlabel('Event')\n",
    "plt.legend(title='Offer Type')"
   ]
  },
  {
   "cell_type": "code",
   "execution_count": 28,
   "metadata": {},
   "outputs": [
    {
     "name": "stdout",
     "output_type": "stream",
     "text": [
      "Age distribution in events\n"
     ]
    },
    {
     "data": {
      "text/plain": [
       "<matplotlib.legend.Legend at 0x7fdf47671860>"
      ]
     },
     "execution_count": 28,
     "metadata": {},
     "output_type": "execute_result"
    },
    {
     "data": {
      "image/png": "[encoded data removed]",
      "text/plain": [
       "<Figure size 1080x288 with 1 Axes>"
      ]
     },
     "metadata": {},
     "output_type": "display_data"
    }
   ],
   "source": [
    "print('Age distribution in events')\n",
    "plt.figure(figsize=(15, 4))\n",
    "sns.countplot(x= \"Age_group\", hue= \"event\", data=plot_gender)\n",
    "sns.set(style=\"darkgrid\")\n",
    "plt.ylabel('Count')\n",
    "plt.xlabel('Age Group')\n",
    "plt.legend(title='Event')"
   ]
  },
  {
   "cell_type": "markdown",
   "metadata": {},
   "source": [
    "# create a ML model for predict response of a customer to the offer"
   ]
  },
  {
   "cell_type": "markdown",
   "metadata": {},
   "source": [
    "## Data Preprocessing "
   ]
  },
  {
   "cell_type": "code",
   "execution_count": 29,
   "metadata": {},
   "outputs": [
    {
     "data": {
      "text/html": [
       "<div>\n",
       "<style scoped>\n",
       "    .dataframe tbody tr th:only-of-type {\n",
       "        vertical-align: middle;\n",
       "    }\n",
       "\n",
       "    .dataframe tbody tr th {\n",
       "        vertical-align: top;\n",
       "    }\n",
       "\n",
       "    .dataframe thead th {\n",
       "        text-align: right;\n",
       "    }\n",
       "</style>\n",
       "<table border=\"1\" class=\"dataframe\">\n",
       "  <thead>\n",
       "    <tr style=\"text-align: right;\">\n",
       "      <th></th>\n",
       "      <th>offer_reward</th>\n",
       "      <th>channels</th>\n",
       "      <th>offer_difficulty</th>\n",
       "      <th>offer_duration</th>\n",
       "      <th>offer_type</th>\n",
       "      <th>offer_id</th>\n",
       "      <th>customer_id</th>\n",
       "      <th>event</th>\n",
       "      <th>time</th>\n",
       "      <th>money_gained</th>\n",
       "      <th>money_spent</th>\n",
       "      <th>gender</th>\n",
       "      <th>became_member_on</th>\n",
       "      <th>customer_income</th>\n",
       "      <th>Age_group</th>\n",
       "    </tr>\n",
       "  </thead>\n",
       "  <tbody>\n",
       "    <tr>\n",
       "      <th>0</th>\n",
       "      <td>10</td>\n",
       "      <td>[email, mobile, social]</td>\n",
       "      <td>10</td>\n",
       "      <td>7</td>\n",
       "      <td>bogo</td>\n",
       "      <td>ae264e3637204a6fb9bb56bc8210ddfd</td>\n",
       "      <td>4b0da7e80e5945209a1fdddfe813dbe0</td>\n",
       "      <td>offer received</td>\n",
       "      <td>0</td>\n",
       "      <td>0.0</td>\n",
       "      <td>0.0</td>\n",
       "      <td>M</td>\n",
       "      <td>20170909</td>\n",
       "      <td>100000.0</td>\n",
       "      <td>61-80</td>\n",
       "    </tr>\n",
       "    <tr>\n",
       "      <th>1</th>\n",
       "      <td>10</td>\n",
       "      <td>[email, mobile, social]</td>\n",
       "      <td>10</td>\n",
       "      <td>7</td>\n",
       "      <td>bogo</td>\n",
       "      <td>ae264e3637204a6fb9bb56bc8210ddfd</td>\n",
       "      <td>4b0da7e80e5945209a1fdddfe813dbe0</td>\n",
       "      <td>offer viewed</td>\n",
       "      <td>102</td>\n",
       "      <td>0.0</td>\n",
       "      <td>0.0</td>\n",
       "      <td>M</td>\n",
       "      <td>20170909</td>\n",
       "      <td>100000.0</td>\n",
       "      <td>61-80</td>\n",
       "    </tr>\n",
       "    <tr>\n",
       "      <th>2</th>\n",
       "      <td>10</td>\n",
       "      <td>[email, mobile, social]</td>\n",
       "      <td>10</td>\n",
       "      <td>7</td>\n",
       "      <td>bogo</td>\n",
       "      <td>ae264e3637204a6fb9bb56bc8210ddfd</td>\n",
       "      <td>4b0da7e80e5945209a1fdddfe813dbe0</td>\n",
       "      <td>offer received</td>\n",
       "      <td>504</td>\n",
       "      <td>0.0</td>\n",
       "      <td>0.0</td>\n",
       "      <td>M</td>\n",
       "      <td>20170909</td>\n",
       "      <td>100000.0</td>\n",
       "      <td>61-80</td>\n",
       "    </tr>\n",
       "    <tr>\n",
       "      <th>3</th>\n",
       "      <td>10</td>\n",
       "      <td>[email, mobile, social]</td>\n",
       "      <td>10</td>\n",
       "      <td>7</td>\n",
       "      <td>bogo</td>\n",
       "      <td>ae264e3637204a6fb9bb56bc8210ddfd</td>\n",
       "      <td>4b0da7e80e5945209a1fdddfe813dbe0</td>\n",
       "      <td>offer viewed</td>\n",
       "      <td>510</td>\n",
       "      <td>0.0</td>\n",
       "      <td>0.0</td>\n",
       "      <td>M</td>\n",
       "      <td>20170909</td>\n",
       "      <td>100000.0</td>\n",
       "      <td>61-80</td>\n",
       "    </tr>\n",
       "    <tr>\n",
       "      <th>4</th>\n",
       "      <td>10</td>\n",
       "      <td>[email, mobile, social]</td>\n",
       "      <td>10</td>\n",
       "      <td>7</td>\n",
       "      <td>bogo</td>\n",
       "      <td>ae264e3637204a6fb9bb56bc8210ddfd</td>\n",
       "      <td>4b0da7e80e5945209a1fdddfe813dbe0</td>\n",
       "      <td>offer completed</td>\n",
       "      <td>510</td>\n",
       "      <td>10.0</td>\n",
       "      <td>0.0</td>\n",
       "      <td>M</td>\n",
       "      <td>20170909</td>\n",
       "      <td>100000.0</td>\n",
       "      <td>61-80</td>\n",
       "    </tr>\n",
       "    <tr>\n",
       "      <th>5</th>\n",
       "      <td>0</td>\n",
       "      <td>[web, email, mobile]</td>\n",
       "      <td>0</td>\n",
       "      <td>4</td>\n",
       "      <td>informational</td>\n",
       "      <td>3f207df678b143eea3cee63160fa8bed</td>\n",
       "      <td>4b0da7e80e5945209a1fdddfe813dbe0</td>\n",
       "      <td>offer received</td>\n",
       "      <td>408</td>\n",
       "      <td>0.0</td>\n",
       "      <td>0.0</td>\n",
       "      <td>M</td>\n",
       "      <td>20170909</td>\n",
       "      <td>100000.0</td>\n",
       "      <td>61-80</td>\n",
       "    </tr>\n",
       "    <tr>\n",
       "      <th>6</th>\n",
       "      <td>0</td>\n",
       "      <td>[web, email, mobile]</td>\n",
       "      <td>0</td>\n",
       "      <td>4</td>\n",
       "      <td>informational</td>\n",
       "      <td>3f207df678b143eea3cee63160fa8bed</td>\n",
       "      <td>4b0da7e80e5945209a1fdddfe813dbe0</td>\n",
       "      <td>offer viewed</td>\n",
       "      <td>468</td>\n",
       "      <td>0.0</td>\n",
       "      <td>0.0</td>\n",
       "      <td>M</td>\n",
       "      <td>20170909</td>\n",
       "      <td>100000.0</td>\n",
       "      <td>61-80</td>\n",
       "    </tr>\n",
       "    <tr>\n",
       "      <th>7</th>\n",
       "      <td>5</td>\n",
       "      <td>[web, email]</td>\n",
       "      <td>20</td>\n",
       "      <td>10</td>\n",
       "      <td>discount</td>\n",
       "      <td>0b1e1539f2cc45b7b9fa7c272da2e1d7</td>\n",
       "      <td>4b0da7e80e5945209a1fdddfe813dbe0</td>\n",
       "      <td>offer received</td>\n",
       "      <td>168</td>\n",
       "      <td>0.0</td>\n",
       "      <td>0.0</td>\n",
       "      <td>M</td>\n",
       "      <td>20170909</td>\n",
       "      <td>100000.0</td>\n",
       "      <td>61-80</td>\n",
       "    </tr>\n",
       "    <tr>\n",
       "      <th>8</th>\n",
       "      <td>5</td>\n",
       "      <td>[web, email]</td>\n",
       "      <td>20</td>\n",
       "      <td>10</td>\n",
       "      <td>discount</td>\n",
       "      <td>0b1e1539f2cc45b7b9fa7c272da2e1d7</td>\n",
       "      <td>4b0da7e80e5945209a1fdddfe813dbe0</td>\n",
       "      <td>offer viewed</td>\n",
       "      <td>174</td>\n",
       "      <td>0.0</td>\n",
       "      <td>0.0</td>\n",
       "      <td>M</td>\n",
       "      <td>20170909</td>\n",
       "      <td>100000.0</td>\n",
       "      <td>61-80</td>\n",
       "    </tr>\n",
       "    <tr>\n",
       "      <th>9</th>\n",
       "      <td>5</td>\n",
       "      <td>[web, email]</td>\n",
       "      <td>20</td>\n",
       "      <td>10</td>\n",
       "      <td>discount</td>\n",
       "      <td>0b1e1539f2cc45b7b9fa7c272da2e1d7</td>\n",
       "      <td>4b0da7e80e5945209a1fdddfe813dbe0</td>\n",
       "      <td>offer completed</td>\n",
       "      <td>180</td>\n",
       "      <td>5.0</td>\n",
       "      <td>0.0</td>\n",
       "      <td>M</td>\n",
       "      <td>20170909</td>\n",
       "      <td>100000.0</td>\n",
       "      <td>61-80</td>\n",
       "    </tr>\n",
       "  </tbody>\n",
       "</table>\n",
       "</div>"
      ],
      "text/plain": [
       "   offer_reward                 channels  offer_difficulty  offer_duration  \\\n",
       "0            10  [email, mobile, social]                10               7   \n",
       "1            10  [email, mobile, social]                10               7   \n",
       "2            10  [email, mobile, social]                10               7   \n",
       "3            10  [email, mobile, social]                10               7   \n",
       "4            10  [email, mobile, social]                10               7   \n",
       "5             0     [web, email, mobile]                 0               4   \n",
       "6             0     [web, email, mobile]                 0               4   \n",
       "7             5             [web, email]                20              10   \n",
       "8             5             [web, email]                20              10   \n",
       "9             5             [web, email]                20              10   \n",
       "\n",
       "      offer_type                          offer_id  \\\n",
       "0           bogo  ae264e3637204a6fb9bb56bc8210ddfd   \n",
       "1           bogo  ae264e3637204a6fb9bb56bc8210ddfd   \n",
       "2           bogo  ae264e3637204a6fb9bb56bc8210ddfd   \n",
       "3           bogo  ae264e3637204a6fb9bb56bc8210ddfd   \n",
       "4           bogo  ae264e3637204a6fb9bb56bc8210ddfd   \n",
       "5  informational  3f207df678b143eea3cee63160fa8bed   \n",
       "6  informational  3f207df678b143eea3cee63160fa8bed   \n",
       "7       discount  0b1e1539f2cc45b7b9fa7c272da2e1d7   \n",
       "8       discount  0b1e1539f2cc45b7b9fa7c272da2e1d7   \n",
       "9       discount  0b1e1539f2cc45b7b9fa7c272da2e1d7   \n",
       "\n",
       "                        customer_id            event  time  money_gained  \\\n",
       "0  4b0da7e80e5945209a1fdddfe813dbe0   offer received     0           0.0   \n",
       "1  4b0da7e80e5945209a1fdddfe813dbe0     offer viewed   102           0.0   \n",
       "2  4b0da7e80e5945209a1fdddfe813dbe0   offer received   504           0.0   \n",
       "3  4b0da7e80e5945209a1fdddfe813dbe0     offer viewed   510           0.0   \n",
       "4  4b0da7e80e5945209a1fdddfe813dbe0  offer completed   510          10.0   \n",
       "5  4b0da7e80e5945209a1fdddfe813dbe0   offer received   408           0.0   \n",
       "6  4b0da7e80e5945209a1fdddfe813dbe0     offer viewed   468           0.0   \n",
       "7  4b0da7e80e5945209a1fdddfe813dbe0   offer received   168           0.0   \n",
       "8  4b0da7e80e5945209a1fdddfe813dbe0     offer viewed   174           0.0   \n",
       "9  4b0da7e80e5945209a1fdddfe813dbe0  offer completed   180           5.0   \n",
       "\n",
       "   money_spent gender  became_member_on  customer_income Age_group  \n",
       "0          0.0      M          20170909         100000.0     61-80  \n",
       "1          0.0      M          20170909         100000.0     61-80  \n",
       "2          0.0      M          20170909         100000.0     61-80  \n",
       "3          0.0      M          20170909         100000.0     61-80  \n",
       "4          0.0      M          20170909         100000.0     61-80  \n",
       "5          0.0      M          20170909         100000.0     61-80  \n",
       "6          0.0      M          20170909         100000.0     61-80  \n",
       "7          0.0      M          20170909         100000.0     61-80  \n",
       "8          0.0      M          20170909         100000.0     61-80  \n",
       "9          0.0      M          20170909         100000.0     61-80  "
      ]
     },
     "execution_count": 29,
     "metadata": {},
     "output_type": "execute_result"
    }
   ],
   "source": [
    "merged_df.head(10)"
   ]
  },
  {
   "cell_type": "code",
   "execution_count": 30,
   "metadata": {},
   "outputs": [],
   "source": [
    "categorical = ['offer_type', 'gender', 'Age_group']\n",
    "merged_df = pd.get_dummies(merged_df, columns = categorical)\n",
    "merged_df = merged_df.drop('channels', 1).join(merged_df.channels.str.join('|').str.get_dummies())\n",
    "\n",
    "merged_df['became_member_on'] = merged_df['became_member_on'].apply(lambda x: pd.to_datetime(str(x), format='%Y%m%d'))\n",
    "merged_df['month_member'] = merged_df['became_member_on'].apply(lambda x: x.day)\n",
    "merged_df['year_member'] = merged_df['became_member_on'].apply(lambda x: x.year)\n",
    "merged_df.drop('became_member_on',axis=1, inplace=True)    \n",
    "\n",
    "offerids = merged_df['offer_id'].unique().tolist()\n",
    "o_mapping = dict( zip(offerids,range(len(offerids))) )\n",
    "merged_df.replace({'offer_id': o_mapping},inplace=True)\n",
    "\n",
    "cusids = merged_df['customer_id'].unique().tolist()\n",
    "c_mapping = dict( zip(cusids,range(len(cusids))) )\n",
    "merged_df.replace({'customer_id': c_mapping},inplace=True)\n",
    "\n",
    "scaler = StandardScaler() \n",
    "numerical = ['customer_income', 'offer_difficulty', 'offer_duration', 'offer_reward', 'time', 'money_gained', 'money_spent']\n",
    "merged_df[numerical] = scaler.fit_transform(merged_df[numerical])\n",
    "\n",
    "merged_df['event'] = merged_df['event'].map({'offer received':1, 'offer viewed':2, 'offer completed':3})\n",
    "    "
   ]
  },
  {
   "cell_type": "code",
   "execution_count": 31,
   "metadata": {},
   "outputs": [
    {
     "data": {
      "text/html": [
       "<div>\n",
       "<style scoped>\n",
       "    .dataframe tbody tr th:only-of-type {\n",
       "        vertical-align: middle;\n",
       "    }\n",
       "\n",
       "    .dataframe tbody tr th {\n",
       "        vertical-align: top;\n",
       "    }\n",
       "\n",
       "    .dataframe thead th {\n",
       "        text-align: right;\n",
       "    }\n",
       "</style>\n",
       "<table border=\"1\" class=\"dataframe\">\n",
       "  <thead>\n",
       "    <tr style=\"text-align: right;\">\n",
       "      <th></th>\n",
       "      <th>offer_reward</th>\n",
       "      <th>offer_difficulty</th>\n",
       "      <th>offer_duration</th>\n",
       "      <th>offer_id</th>\n",
       "      <th>customer_id</th>\n",
       "      <th>event</th>\n",
       "      <th>time</th>\n",
       "      <th>money_gained</th>\n",
       "      <th>money_spent</th>\n",
       "      <th>customer_income</th>\n",
       "      <th>...</th>\n",
       "      <th>Age_group_20-45</th>\n",
       "      <th>Age_group_46-60</th>\n",
       "      <th>Age_group_61-80</th>\n",
       "      <th>Age_group_Under 20</th>\n",
       "      <th>email</th>\n",
       "      <th>mobile</th>\n",
       "      <th>social</th>\n",
       "      <th>web</th>\n",
       "      <th>month_member</th>\n",
       "      <th>year_member</th>\n",
       "    </tr>\n",
       "  </thead>\n",
       "  <tbody>\n",
       "    <tr>\n",
       "      <th>0</th>\n",
       "      <td>1.655187</td>\n",
       "      <td>0.424965</td>\n",
       "      <td>0.181176</td>\n",
       "      <td>0</td>\n",
       "      <td>0</td>\n",
       "      <td>1</td>\n",
       "      <td>-1.782871</td>\n",
       "      <td>-0.415669</td>\n",
       "      <td>0.0</td>\n",
       "      <td>1.697973</td>\n",
       "      <td>...</td>\n",
       "      <td>0</td>\n",
       "      <td>0</td>\n",
       "      <td>1</td>\n",
       "      <td>0</td>\n",
       "      <td>1</td>\n",
       "      <td>1</td>\n",
       "      <td>1</td>\n",
       "      <td>0</td>\n",
       "      <td>9</td>\n",
       "      <td>2017</td>\n",
       "    </tr>\n",
       "    <tr>\n",
       "      <th>1</th>\n",
       "      <td>1.655187</td>\n",
       "      <td>0.424965</td>\n",
       "      <td>0.181176</td>\n",
       "      <td>0</td>\n",
       "      <td>0</td>\n",
       "      <td>2</td>\n",
       "      <td>-1.268524</td>\n",
       "      <td>-0.415669</td>\n",
       "      <td>0.0</td>\n",
       "      <td>1.697973</td>\n",
       "      <td>...</td>\n",
       "      <td>0</td>\n",
       "      <td>0</td>\n",
       "      <td>1</td>\n",
       "      <td>0</td>\n",
       "      <td>1</td>\n",
       "      <td>1</td>\n",
       "      <td>1</td>\n",
       "      <td>0</td>\n",
       "      <td>9</td>\n",
       "      <td>2017</td>\n",
       "    </tr>\n",
       "    <tr>\n",
       "      <th>2</th>\n",
       "      <td>1.655187</td>\n",
       "      <td>0.424965</td>\n",
       "      <td>0.181176</td>\n",
       "      <td>0</td>\n",
       "      <td>0</td>\n",
       "      <td>1</td>\n",
       "      <td>0.758608</td>\n",
       "      <td>-0.415669</td>\n",
       "      <td>0.0</td>\n",
       "      <td>1.697973</td>\n",
       "      <td>...</td>\n",
       "      <td>0</td>\n",
       "      <td>0</td>\n",
       "      <td>1</td>\n",
       "      <td>0</td>\n",
       "      <td>1</td>\n",
       "      <td>1</td>\n",
       "      <td>1</td>\n",
       "      <td>0</td>\n",
       "      <td>9</td>\n",
       "      <td>2017</td>\n",
       "    </tr>\n",
       "    <tr>\n",
       "      <th>3</th>\n",
       "      <td>1.655187</td>\n",
       "      <td>0.424965</td>\n",
       "      <td>0.181176</td>\n",
       "      <td>0</td>\n",
       "      <td>0</td>\n",
       "      <td>2</td>\n",
       "      <td>0.788864</td>\n",
       "      <td>-0.415669</td>\n",
       "      <td>0.0</td>\n",
       "      <td>1.697973</td>\n",
       "      <td>...</td>\n",
       "      <td>0</td>\n",
       "      <td>0</td>\n",
       "      <td>1</td>\n",
       "      <td>0</td>\n",
       "      <td>1</td>\n",
       "      <td>1</td>\n",
       "      <td>1</td>\n",
       "      <td>0</td>\n",
       "      <td>9</td>\n",
       "      <td>2017</td>\n",
       "    </tr>\n",
       "    <tr>\n",
       "      <th>4</th>\n",
       "      <td>1.655187</td>\n",
       "      <td>0.424965</td>\n",
       "      <td>0.181176</td>\n",
       "      <td>0</td>\n",
       "      <td>0</td>\n",
       "      <td>3</td>\n",
       "      <td>0.788864</td>\n",
       "      <td>3.865849</td>\n",
       "      <td>0.0</td>\n",
       "      <td>1.697973</td>\n",
       "      <td>...</td>\n",
       "      <td>0</td>\n",
       "      <td>0</td>\n",
       "      <td>1</td>\n",
       "      <td>0</td>\n",
       "      <td>1</td>\n",
       "      <td>1</td>\n",
       "      <td>1</td>\n",
       "      <td>0</td>\n",
       "      <td>9</td>\n",
       "      <td>2017</td>\n",
       "    </tr>\n",
       "    <tr>\n",
       "      <th>5</th>\n",
       "      <td>-1.310456</td>\n",
       "      <td>-1.554745</td>\n",
       "      <td>-1.222749</td>\n",
       "      <td>1</td>\n",
       "      <td>0</td>\n",
       "      <td>1</td>\n",
       "      <td>0.274517</td>\n",
       "      <td>-0.415669</td>\n",
       "      <td>0.0</td>\n",
       "      <td>1.697973</td>\n",
       "      <td>...</td>\n",
       "      <td>0</td>\n",
       "      <td>0</td>\n",
       "      <td>1</td>\n",
       "      <td>0</td>\n",
       "      <td>1</td>\n",
       "      <td>1</td>\n",
       "      <td>0</td>\n",
       "      <td>1</td>\n",
       "      <td>9</td>\n",
       "      <td>2017</td>\n",
       "    </tr>\n",
       "    <tr>\n",
       "      <th>6</th>\n",
       "      <td>-1.310456</td>\n",
       "      <td>-1.554745</td>\n",
       "      <td>-1.222749</td>\n",
       "      <td>1</td>\n",
       "      <td>0</td>\n",
       "      <td>2</td>\n",
       "      <td>0.577074</td>\n",
       "      <td>-0.415669</td>\n",
       "      <td>0.0</td>\n",
       "      <td>1.697973</td>\n",
       "      <td>...</td>\n",
       "      <td>0</td>\n",
       "      <td>0</td>\n",
       "      <td>1</td>\n",
       "      <td>0</td>\n",
       "      <td>1</td>\n",
       "      <td>1</td>\n",
       "      <td>0</td>\n",
       "      <td>1</td>\n",
       "      <td>9</td>\n",
       "      <td>2017</td>\n",
       "    </tr>\n",
       "    <tr>\n",
       "      <th>7</th>\n",
       "      <td>0.172366</td>\n",
       "      <td>2.404675</td>\n",
       "      <td>1.585101</td>\n",
       "      <td>2</td>\n",
       "      <td>0</td>\n",
       "      <td>1</td>\n",
       "      <td>-0.935712</td>\n",
       "      <td>-0.415669</td>\n",
       "      <td>0.0</td>\n",
       "      <td>1.697973</td>\n",
       "      <td>...</td>\n",
       "      <td>0</td>\n",
       "      <td>0</td>\n",
       "      <td>1</td>\n",
       "      <td>0</td>\n",
       "      <td>1</td>\n",
       "      <td>0</td>\n",
       "      <td>0</td>\n",
       "      <td>1</td>\n",
       "      <td>9</td>\n",
       "      <td>2017</td>\n",
       "    </tr>\n",
       "    <tr>\n",
       "      <th>8</th>\n",
       "      <td>0.172366</td>\n",
       "      <td>2.404675</td>\n",
       "      <td>1.585101</td>\n",
       "      <td>2</td>\n",
       "      <td>0</td>\n",
       "      <td>2</td>\n",
       "      <td>-0.905456</td>\n",
       "      <td>-0.415669</td>\n",
       "      <td>0.0</td>\n",
       "      <td>1.697973</td>\n",
       "      <td>...</td>\n",
       "      <td>0</td>\n",
       "      <td>0</td>\n",
       "      <td>1</td>\n",
       "      <td>0</td>\n",
       "      <td>1</td>\n",
       "      <td>0</td>\n",
       "      <td>0</td>\n",
       "      <td>1</td>\n",
       "      <td>9</td>\n",
       "      <td>2017</td>\n",
       "    </tr>\n",
       "    <tr>\n",
       "      <th>9</th>\n",
       "      <td>0.172366</td>\n",
       "      <td>2.404675</td>\n",
       "      <td>1.585101</td>\n",
       "      <td>2</td>\n",
       "      <td>0</td>\n",
       "      <td>3</td>\n",
       "      <td>-0.875200</td>\n",
       "      <td>1.725090</td>\n",
       "      <td>0.0</td>\n",
       "      <td>1.697973</td>\n",
       "      <td>...</td>\n",
       "      <td>0</td>\n",
       "      <td>0</td>\n",
       "      <td>1</td>\n",
       "      <td>0</td>\n",
       "      <td>1</td>\n",
       "      <td>0</td>\n",
       "      <td>0</td>\n",
       "      <td>1</td>\n",
       "      <td>9</td>\n",
       "      <td>2017</td>\n",
       "    </tr>\n",
       "  </tbody>\n",
       "</table>\n",
       "<p>10 rows × 26 columns</p>\n",
       "</div>"
      ],
      "text/plain": [
       "   offer_reward  offer_difficulty  offer_duration  offer_id  customer_id  \\\n",
       "0      1.655187          0.424965        0.181176         0            0   \n",
       "1      1.655187          0.424965        0.181176         0            0   \n",
       "2      1.655187          0.424965        0.181176         0            0   \n",
       "3      1.655187          0.424965        0.181176         0            0   \n",
       "4      1.655187          0.424965        0.181176         0            0   \n",
       "5     -1.310456         -1.554745       -1.222749         1            0   \n",
       "6     -1.310456         -1.554745       -1.222749         1            0   \n",
       "7      0.172366          2.404675        1.585101         2            0   \n",
       "8      0.172366          2.404675        1.585101         2            0   \n",
       "9      0.172366          2.404675        1.585101         2            0   \n",
       "\n",
       "   event      time  money_gained  money_spent  customer_income  ...  \\\n",
       "0      1 -1.782871     -0.415669          0.0         1.697973  ...   \n",
       "1      2 -1.268524     -0.415669          0.0         1.697973  ...   \n",
       "2      1  0.758608     -0.415669          0.0         1.697973  ...   \n",
       "3      2  0.788864     -0.415669          0.0         1.697973  ...   \n",
       "4      3  0.788864      3.865849          0.0         1.697973  ...   \n",
       "5      1  0.274517     -0.415669          0.0         1.697973  ...   \n",
       "6      2  0.577074     -0.415669          0.0         1.697973  ...   \n",
       "7      1 -0.935712     -0.415669          0.0         1.697973  ...   \n",
       "8      2 -0.905456     -0.415669          0.0         1.697973  ...   \n",
       "9      3 -0.875200      1.725090          0.0         1.697973  ...   \n",
       "\n",
       "   Age_group_20-45  Age_group_46-60  Age_group_61-80  Age_group_Under 20  \\\n",
       "0                0                0                1                   0   \n",
       "1                0                0                1                   0   \n",
       "2                0                0                1                   0   \n",
       "3                0                0                1                   0   \n",
       "4                0                0                1                   0   \n",
       "5                0                0                1                   0   \n",
       "6                0                0                1                   0   \n",
       "7                0                0                1                   0   \n",
       "8                0                0                1                   0   \n",
       "9                0                0                1                   0   \n",
       "\n",
       "   email  mobile  social  web  month_member  year_member  \n",
       "0      1       1       1    0             9         2017  \n",
       "1      1       1       1    0             9         2017  \n",
       "2      1       1       1    0             9         2017  \n",
       "3      1       1       1    0             9         2017  \n",
       "4      1       1       1    0             9         2017  \n",
       "5      1       1       0    1             9         2017  \n",
       "6      1       1       0    1             9         2017  \n",
       "7      1       0       0    1             9         2017  \n",
       "8      1       0       0    1             9         2017  \n",
       "9      1       0       0    1             9         2017  \n",
       "\n",
       "[10 rows x 26 columns]"
      ]
     },
     "execution_count": 31,
     "metadata": {},
     "output_type": "execute_result"
    }
   ],
   "source": [
    "merged_df.head(10)"
   ]
  },
  {
   "cell_type": "markdown",
   "metadata": {},
   "source": [
    "## Split train and test data"
   ]
  },
  {
   "cell_type": "code",
   "execution_count": 32,
   "metadata": {},
   "outputs": [],
   "source": [
    "data = merged_df.drop('event', axis=1)\n",
    "label = merged_df['event']"
   ]
  },
  {
   "cell_type": "code",
   "execution_count": 33,
   "metadata": {},
   "outputs": [
    {
     "name": "stdout",
     "output_type": "stream",
     "text": [
      "Training set shape: (110252, 25) \n",
      "Testing set shape: (47251, 25) \n"
     ]
    }
   ],
   "source": [
    "X_train, X_test, y_train, y_test = train_test_split(data, label, test_size = 0.3, random_state = 42)\n",
    "\n",
    "print(\"Training set shape: {} \".format(X_train.shape))\n",
    "print(\"Testing set shape: {} \".format(X_test.shape))"
   ]
  },
  {
   "cell_type": "markdown",
   "metadata": {},
   "source": [
    "## Training and Testing"
   ]
  },
  {
   "cell_type": "markdown",
   "metadata": {},
   "source": [
    "### KNN 3"
   ]
  },
  {
   "cell_type": "code",
   "execution_count": 34,
   "metadata": {},
   "outputs": [
    {
     "name": "stdout",
     "output_type": "stream",
     "text": [
      "              precision    recall  f1-score   support\n",
      "\n",
      "           1       0.35      0.50      0.41     21668\n",
      "           2       0.13      0.11      0.12     16158\n",
      "           3       0.49      0.14      0.22      9425\n",
      "\n",
      "    accuracy                           0.30     47251\n",
      "   macro avg       0.32      0.25      0.25     47251\n",
      "weighted avg       0.30      0.30      0.27     47251\n",
      "\n"
     ]
    }
   ],
   "source": [
    "clf = KNeighborsClassifier(n_neighbors = 3)\n",
    "clf.fit(X_train, y_train)\n",
    "y_pred = clf.predict(X_test)\n",
    "print(classification_report(y_pred=y_pred,y_true=y_test))\n",
    "knn3_presision = precision_score(y_pred=y_pred,y_true=y_test,average='macro')\n",
    "knn3_recall = recall_score(y_pred=y_pred,y_true=y_test,average='macro')\n",
    "knn3_f1 = f1_score(y_pred=y_pred,y_true=y_test,average='macro')\n",
    "knn3_acc = accuracy_score(y_pred=y_pred,y_true=y_test)"
   ]
  },
  {
   "cell_type": "markdown",
   "metadata": {},
   "source": [
    "### KNN 5"
   ]
  },
  {
   "cell_type": "code",
   "execution_count": 35,
   "metadata": {},
   "outputs": [
    {
     "name": "stdout",
     "output_type": "stream",
     "text": [
      "              precision    recall  f1-score   support\n",
      "\n",
      "           1       0.38      0.57      0.46     21668\n",
      "           2       0.16      0.13      0.15     16158\n",
      "           3       0.60      0.09      0.16      9425\n",
      "\n",
      "    accuracy                           0.33     47251\n",
      "   macro avg       0.38      0.27      0.26     47251\n",
      "weighted avg       0.35      0.33      0.29     47251\n",
      "\n"
     ]
    }
   ],
   "source": [
    "clf = KNeighborsClassifier(n_neighbors = 5)\n",
    "clf.fit(X_train, y_train)\n",
    "y_pred = clf.predict(X_test)\n",
    "print(classification_report(y_pred=y_pred,y_true=y_test))\n",
    "knn5_presision = precision_score(y_pred=y_pred,y_true=y_test,average='macro')\n",
    "knn5_recall = recall_score(y_pred=y_pred,y_true=y_test,average='macro')\n",
    "knn5_f1 = f1_score(y_pred=y_pred,y_true=y_test,average='macro')\n",
    "knn5_acc = accuracy_score(y_pred=y_pred,y_true=y_test)"
   ]
  },
  {
   "cell_type": "markdown",
   "metadata": {},
   "source": [
    "### KNN 7"
   ]
  },
  {
   "cell_type": "code",
   "execution_count": 36,
   "metadata": {},
   "outputs": [
    {
     "name": "stdout",
     "output_type": "stream",
     "text": [
      "              precision    recall  f1-score   support\n",
      "\n",
      "           1       0.40      0.59      0.48     21668\n",
      "           2       0.17      0.13      0.15     16158\n",
      "           3       0.47      0.15      0.23      9425\n",
      "\n",
      "    accuracy                           0.35     47251\n",
      "   macro avg       0.35      0.29      0.28     47251\n",
      "weighted avg       0.34      0.35      0.32     47251\n",
      "\n"
     ]
    }
   ],
   "source": [
    "clf = KNeighborsClassifier(n_neighbors = 7)\n",
    "clf.fit(X_train, y_train)\n",
    "y_pred = clf.predict(X_test)\n",
    "print(classification_report(y_pred=y_pred,y_true=y_test))\n",
    "knn7_presision = precision_score(y_pred=y_pred,y_true=y_test,average='macro')\n",
    "knn7_recall = recall_score(y_pred=y_pred,y_true=y_test,average='macro')\n",
    "knn7_f1 = f1_score(y_pred=y_pred,y_true=y_test,average='macro')\n",
    "knn7_acc = accuracy_score(y_pred=y_pred,y_true=y_test)"
   ]
  },
  {
   "cell_type": "markdown",
   "metadata": {},
   "source": [
    "### RandomForestClassifier"
   ]
  },
  {
   "cell_type": "code",
   "execution_count": 37,
   "metadata": {},
   "outputs": [
    {
     "name": "stdout",
     "output_type": "stream",
     "text": [
      "              precision    recall  f1-score   support\n",
      "\n",
      "           1       0.67      0.72      0.69     21668\n",
      "           2       0.58      0.52      0.55     16158\n",
      "           3       1.00      1.00      1.00      9425\n",
      "\n",
      "    accuracy                           0.71     47251\n",
      "   macro avg       0.75      0.75      0.75     47251\n",
      "weighted avg       0.70      0.71      0.70     47251\n",
      "\n"
     ]
    }
   ],
   "source": [
    "clf = RandomForestClassifier()\n",
    "clf.fit(X_train, y_train)\n",
    "y_pred = clf.predict(X_test)\n",
    "print(classification_report(y_pred=y_pred,y_true=y_test))\n",
    "rf_presision = precision_score(y_pred=y_pred,y_true=y_test,average='macro')\n",
    "rf_recall = recall_score(y_pred=y_pred,y_true=y_test,average='macro')\n",
    "rf_f1 = f1_score(y_pred=y_pred,y_true=y_test,average='macro')\n",
    "rf_acc = accuracy_score(y_pred=y_pred,y_true=y_test)"
   ]
  },
  {
   "cell_type": "markdown",
   "metadata": {},
   "source": [
    "### DecisionTreeClassifier"
   ]
  },
  {
   "cell_type": "code",
   "execution_count": 38,
   "metadata": {},
   "outputs": [
    {
     "name": "stdout",
     "output_type": "stream",
     "text": [
      "              precision    recall  f1-score   support\n",
      "\n",
      "           1       0.84      0.83      0.83     21668\n",
      "           2       0.77      0.79      0.78     16158\n",
      "           3       1.00      1.00      1.00      9425\n",
      "\n",
      "    accuracy                           0.85     47251\n",
      "   macro avg       0.87      0.87      0.87     47251\n",
      "weighted avg       0.85      0.85      0.85     47251\n",
      "\n"
     ]
    }
   ],
   "source": [
    "clf = DecisionTreeClassifier()\n",
    "clf.fit(X_train, y_train)\n",
    "y_pred = clf.predict(X_test)\n",
    "print(classification_report(y_pred=y_pred,y_true=y_test))\n",
    "Dt_presision = precision_score(y_pred=y_pred,y_true=y_test,average='macro')\n",
    "Dt_recall = recall_score(y_pred=y_pred,y_true=y_test,average='macro')\n",
    "Dt_f1 = f1_score(y_pred=y_pred,y_true=y_test,average='macro')\n",
    "Dt_acc = accuracy_score(y_pred=y_pred,y_true=y_test)"
   ]
  },
  {
   "cell_type": "markdown",
   "metadata": {},
   "source": [
    "### GradientBoostingClassifier"
   ]
  },
  {
   "cell_type": "code",
   "execution_count": 39,
   "metadata": {},
   "outputs": [
    {
     "name": "stdout",
     "output_type": "stream",
     "text": [
      "              precision    recall  f1-score   support\n",
      "\n",
      "           1       0.86      1.00      0.92     21668\n",
      "           2       1.00      0.78      0.88     16158\n",
      "           3       1.00      1.00      1.00      9425\n",
      "\n",
      "    accuracy                           0.93     47251\n",
      "   macro avg       0.95      0.93      0.93     47251\n",
      "weighted avg       0.94      0.93      0.92     47251\n",
      "\n"
     ]
    }
   ],
   "source": [
    "clf = GradientBoostingClassifier()\n",
    "clf.fit(X_train, y_train)\n",
    "y_pred = clf.predict(X_test)\n",
    "print(classification_report(y_pred=y_pred,y_true=y_test))\n",
    "GB_presision = precision_score(y_pred=y_pred,y_true=y_test,average='macro')\n",
    "GB_recall = recall_score(y_pred=y_pred,y_true=y_test,average='macro')\n",
    "GB_f1 = f1_score(y_pred=y_pred,y_true=y_test,average='macro')\n",
    "GB_acc = accuracy_score(y_pred=y_pred,y_true=y_test)"
   ]
  },
  {
   "cell_type": "markdown",
   "metadata": {},
   "source": [
    "##  evaluation and Results"
   ]
  },
  {
   "cell_type": "code",
   "execution_count": 40,
   "metadata": {},
   "outputs": [],
   "source": [
    "models = { 'Presision_score':[knn3_presision, knn5_presision, knn7_presision,rf_presision,Dt_presision,GB_presision], \n",
    "          'Recall_score': [knn3_recall, knn5_recall, knn7_recall,rf_recall,Dt_recall,GB_recall],\n",
    "         'F1_score':[knn3_f1, knn5_f1, knn7_f1,rf_f1,Dt_f1,GB_f1],\n",
    "         'accuracy':[knn3_acc, knn5_acc, knn7_acc,rf_acc,Dt_acc,GB_acc]\n",
    "         }\n",
    "          \n",
    "result = pd.DataFrame(models,index= ['KNN 3 Classifier','KNN 5 Classifier','KNN 7 Classifier','Random Forest Classifier','Decision Tree Classifier','GradientBoostingClassifier '])"
   ]
  },
  {
   "cell_type": "code",
   "execution_count": 41,
   "metadata": {},
   "outputs": [
    {
     "data": {
      "text/html": [
       "<div>\n",
       "<style scoped>\n",
       "    .dataframe tbody tr th:only-of-type {\n",
       "        vertical-align: middle;\n",
       "    }\n",
       "\n",
       "    .dataframe tbody tr th {\n",
       "        vertical-align: top;\n",
       "    }\n",
       "\n",
       "    .dataframe thead th {\n",
       "        text-align: right;\n",
       "    }\n",
       "</style>\n",
       "<table border=\"1\" class=\"dataframe\">\n",
       "  <thead>\n",
       "    <tr style=\"text-align: right;\">\n",
       "      <th></th>\n",
       "      <th>Presision_score</th>\n",
       "      <th>Recall_score</th>\n",
       "      <th>F1_score</th>\n",
       "      <th>accuracy</th>\n",
       "    </tr>\n",
       "  </thead>\n",
       "  <tbody>\n",
       "    <tr>\n",
       "      <th>KNN 3 Classifier</th>\n",
       "      <td>0.323952</td>\n",
       "      <td>0.250381</td>\n",
       "      <td>0.249827</td>\n",
       "      <td>0.295422</td>\n",
       "    </tr>\n",
       "    <tr>\n",
       "      <th>KNN 5 Classifier</th>\n",
       "      <td>0.382531</td>\n",
       "      <td>0.266697</td>\n",
       "      <td>0.255408</td>\n",
       "      <td>0.327210</td>\n",
       "    </tr>\n",
       "    <tr>\n",
       "      <th>KNN 7 Classifier</th>\n",
       "      <td>0.347202</td>\n",
       "      <td>0.290630</td>\n",
       "      <td>0.284789</td>\n",
       "      <td>0.345284</td>\n",
       "    </tr>\n",
       "    <tr>\n",
       "      <th>Random Forest Classifier</th>\n",
       "      <td>0.748335</td>\n",
       "      <td>0.745586</td>\n",
       "      <td>0.746124</td>\n",
       "      <td>0.706059</td>\n",
       "    </tr>\n",
       "    <tr>\n",
       "      <th>Decision Tree Classifier</th>\n",
       "      <td>0.870094</td>\n",
       "      <td>0.870922</td>\n",
       "      <td>0.870479</td>\n",
       "      <td>0.847453</td>\n",
       "    </tr>\n",
       "    <tr>\n",
       "      <th>GradientBoostingClassifier</th>\n",
       "      <td>0.953155</td>\n",
       "      <td>0.926909</td>\n",
       "      <td>0.933762</td>\n",
       "      <td>0.925017</td>\n",
       "    </tr>\n",
       "  </tbody>\n",
       "</table>\n",
       "</div>"
      ],
      "text/plain": [
       "                             Presision_score  Recall_score  F1_score  accuracy\n",
       "KNN 3 Classifier                    0.323952      0.250381  0.249827  0.295422\n",
       "KNN 5 Classifier                    0.382531      0.266697  0.255408  0.327210\n",
       "KNN 7 Classifier                    0.347202      0.290630  0.284789  0.345284\n",
       "Random Forest Classifier            0.748335      0.745586  0.746124  0.706059\n",
       "Decision Tree Classifier            0.870094      0.870922  0.870479  0.847453\n",
       "GradientBoostingClassifier          0.953155      0.926909  0.933762  0.925017"
      ]
     },
     "execution_count": 41,
     "metadata": {},
     "output_type": "execute_result"
    }
   ],
   "source": [
    "result"
   ]
  },
  {
   "cell_type": "code",
   "execution_count": 42,
   "metadata": {},
   "outputs": [
    {
     "data": {
      "text/plain": [
       "<AxesSubplot:title={'center':' Presision_score'}>"
      ]
     },
     "execution_count": 42,
     "metadata": {},
     "output_type": "execute_result"
    },
    {
     "data": {
      "image/png": "[encoded data removed]",
      "text/plain": [
       "<Figure size 432x288 with 1 Axes>"
      ]
     },
     "metadata": {},
     "output_type": "display_data"
    }
   ],
   "source": [
    "result['Presision_score'].plot.barh(title=' Presision_score')"
   ]
  },
  {
   "cell_type": "code",
   "execution_count": 43,
   "metadata": {},
   "outputs": [
    {
     "data": {
      "text/plain": [
       "<AxesSubplot:title={'center':' Recall_score'}>"
      ]
     },
     "execution_count": 43,
     "metadata": {},
     "output_type": "execute_result"
    },
    {
     "data": {
      "image/png": "[encoded data removed]",
      "text/plain": [
       "<Figure size 432x288 with 1 Axes>"
      ]
     },
     "metadata": {},
     "output_type": "display_data"
    }
   ],
   "source": [
    "result['Recall_score'].plot.barh(title=' Recall_score')"
   ]
  },
  {
   "cell_type": "code",
   "execution_count": 44,
   "metadata": {},
   "outputs": [
    {
     "data": {
      "text/plain": [
       "<AxesSubplot:title={'center':' F1_score'}>"
      ]
     },
     "execution_count": 44,
     "metadata": {},
     "output_type": "execute_result"
    },
    {
     "data": {
      "image/png": "[encoded data removed]",
      "text/plain": [
       "<Figure size 432x288 with 1 Axes>"
      ]
     },
     "metadata": {},
     "output_type": "display_data"
    }
   ],
   "source": [
    "result['F1_score'].plot.barh(title=' F1_score')"
   ]
  },
  {
   "cell_type": "code",
   "execution_count": 45,
   "metadata": {},
   "outputs": [
    {
     "data": {
      "text/plain": [
       "<AxesSubplot:title={'center':' accuracy'}>"
      ]
     },
     "execution_count": 45,
     "metadata": {},
     "output_type": "execute_result"
    },
    {
     "data": {
      "image/png": "[encoded data removed]",
      "text/plain": [
       "<Figure size 432x288 with 1 Axes>"
      ]
     },
     "metadata": {},
     "output_type": "display_data"
    }
   ],
   "source": [
    "result['accuracy'].plot.barh(title=' accuracy')"
   ]
  },
  {
   "cell_type": "code",
   "execution_count": 46,
   "metadata": {},
   "outputs": [
    {
     "data": {
      "text/plain": [
       "<AxesSubplot:title={'center':'all of result'}>"
      ]
     },
     "execution_count": 46,
     "metadata": {},
     "output_type": "execute_result"
    },
    {
     "data": {
      "image/png": "[encoded data removed]",
      "text/plain": [
       "<Figure size 1080x576 with 1 Axes>"
      ]
     },
     "metadata": {},
     "output_type": "display_data"
    }
   ],
   "source": [
    "result.plot.barh(title='all of result',figsize=(15,8))"
   ]
  },
  {
   "cell_type": "code",
   "execution_count": null,
   "metadata": {},
   "outputs": [],
   "source": []
  }
 ],
 "metadata": {
  "kernelspec": {
   "display_name": "Python 3",
   "language": "python",
   "name": "python3"
  },
  "language_info": {
   "codemirror_mode": {
    "name": "ipython",
    "version": 3
   },
   "file_extension": ".py",
   "mimetype": "text/x-python",
   "name": "python",
   "nbconvert_exporter": "python",
   "pygments_lexer": "ipython3",
   "version": "3.8.3"
  }
 },
 "nbformat": 4,
 "nbformat_minor": 2
}
